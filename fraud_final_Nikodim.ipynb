{
 "cells": [
  {
   "cell_type": "code",
   "execution_count": null,
   "metadata": {},
   "outputs": [
    {
     "evalue": "Error: Jupyter notebook failed to launch. \r\nError: The Jupyter notebook server failed to launch in time\n[I 23:45:08.393 NotebookApp] The port 8888 is already in use, trying another port.\r\n\n[I 23:45:09.153 NotebookApp] JupyterLab beta preview extension loaded from C:\\Users\\jusia\\Anaconda3\\lib\\site-packages\\jupyterlab\r\n\n[I 23:45:09.161 NotebookApp] JupyterLab application directory is C:\\Users\\jusia\\Anaconda3\\share\\jupyter\\lab\r\n\n[W 23:45:09.565 NotebookApp] Error loading server extension jupyterlab\r\n    Traceback (most recent call last):\r\n      File \"C:\\Users\\jusia\\Anaconda3\\lib\\site-packages\\jupyterlab\\commands.py\", line 321, in __init__\r\n        self._run(['node', 'node-version-check.js'], cwd=HERE, quiet=True)\r\n      File \"C:\\Users\\jusia\\Anaconda3\\lib\\site-packages\\jupyterlab\\commands.py\", line 1165, in _run\r\n        proc = Process(cmd, **kwargs)\r\n      File \"C:\\Users\\jusia\\Anaconda3\\lib\\site-packages\\jupyterlab\\process.py\", line 73, in __init__\r\n        self.proc = self._create_process(cwd=cwd, env=env)\r\n      File \"C:\\Users\\jusia\\Anaconda3\\lib\\site-packages\\jupyterlab\\process.py\", line 131, in _create_process\r\n        cmd[0] = which(cmd[0], kwargs.get('env'))\r\n      File \"C:\\Users\\jusia\\Anaconda3\\lib\\site-packages\\jupyterlab\\jlpmapp.py\", line 59, in which\r\n        raise ValueError(msg)\r\n    ValueError: Please install nodejs 5+ and npm before continuing installation. nodejs may be installed using conda or directly from the nodejs website.\r\n    \r\n    During handling of the above exception, another exception occurred:\r\n    \r\n    Traceback (most recent call last):\r\n      File \"C:\\Users\\jusia\\Anaconda3\\lib\\site-packages\\notebook\\notebookapp.py\", line 1454, in init_server_extensions\r\n        func(self)\r\n      File \"C:\\Users\\jusia\\Anaconda3\\lib\\site-packages\\jupyterlab\\extension.py\", line 111, in load_jupyter_server_extension\r\n        info = get_app_info(app_dir)\r\n      File \"C:\\Users\\jusia\\Anaconda3\\lib\\site-packages\\jupyterlab\\commands.py\", line 244, in get_app_info\r\n        handler = _AppHandler(app_dir, logger)\r\n      File \"C:\\Users\\jusia\\Anaconda3\\lib\\site-packages\\jupyterlab\\commands.py\", line 324, in __init__\r\n        raise ValueError(msg)\r\n    ValueError: Please install nodejs 5+ and npm before continuing installation. nodejs may be installed using conda or directly from the nodejs website.\n\r\n\n[I 23:45:11.677 NotebookApp] Serving notebooks from local directory: C:\\Users\\jusia\\AppData\\Local\\Temp\\48d33ee4-5c57-4d62-b371-e75a81561814\r\n\n[I 23:45:11.677 NotebookApp] 0 active kernels\r\n[I 23:45:11.677 NotebookApp] The Jupyter Notebook is running at:\r\n[I 23:45:11.677 NotebookApp] http://localhost:8889/?token=c2b211a678a548bb5fc418c15d841c805b9ad1c0ac9f81a6\r\n[I 23:45:11.677 NotebookApp] Use Control-C to stop this server and shut down all kernels (twice to skip confirmation).\r\n\n[C 23:45:11.829 NotebookApp] \r\n    \r\n    Copy/paste this URL into your browser when you connect for the first time,\r\n    to login with a token:\r\n        http://localhost:8889/?token=c2b211a678a548bb5fc418c15d841c805b9ad1c0ac9f81a6\r\n",
     "output_type": "error"
    }
   ],
   "source": [
    "import pandas as pd\n",
    "import xgboost\n",
    "import datetime"
   ]
  },
  {
   "cell_type": "code",
   "execution_count": 1,
   "metadata": {},
   "outputs": [],
   "source": [
    "# these columns I will exlude from dataset after preprocessing data\n",
    "KILL_COLUMNS = [\n",
    "    'TransactionId', 'BatchId', 'AccountId', 'SubscriptionId', 'CustomerId', 'CurrencyCode', 'CountryCode', \n",
    "    'ProviderId', 'ProductId', 'ProductCategory', 'ChannelId', 'TransactionStartTime'\n",
    "]"
   ]
  },
  {
   "cell_type": "code",
   "execution_count": 2,
   "metadata": {},
   "outputs": [
    {
     "ename": "NameError",
     "evalue": "name 'pd' is not defined",
     "output_type": "error",
     "traceback": [
      "\u001b[1;31m---------------------------------------------------------------------------\u001b[0m",
      "\u001b[1;31mNameError\u001b[0m                                 Traceback (most recent call last)",
      "\u001b[1;32m<ipython-input-2-1d1b6d5fca24>\u001b[0m in \u001b[0;36m<module>\u001b[1;34m()\u001b[0m\n\u001b[0;32m      1\u001b[0m \u001b[1;31m# read train and test data\u001b[0m\u001b[1;33m\u001b[0m\u001b[1;33m\u001b[0m\u001b[0m\n\u001b[1;32m----> 2\u001b[1;33m \u001b[0mtrain_data\u001b[0m \u001b[1;33m=\u001b[0m \u001b[0mpd\u001b[0m\u001b[1;33m.\u001b[0m\u001b[0mread_csv\u001b[0m\u001b[1;33m(\u001b[0m\u001b[1;34m'training.csv'\u001b[0m\u001b[1;33m)\u001b[0m\u001b[1;33m\u001b[0m\u001b[0m\n\u001b[0m\u001b[0;32m      3\u001b[0m \u001b[0mtest_data\u001b[0m \u001b[1;33m=\u001b[0m \u001b[0mpd\u001b[0m\u001b[1;33m.\u001b[0m\u001b[0mread_csv\u001b[0m\u001b[1;33m(\u001b[0m\u001b[1;34m'test.csv'\u001b[0m\u001b[1;33m)\u001b[0m\u001b[1;33m\u001b[0m\u001b[0m\n",
      "\u001b[1;31mNameError\u001b[0m: name 'pd' is not defined"
     ]
    }
   ],
   "source": [
    "# read train and test data\n",
    "train_data = pd.read_csv('training.csv')\n",
    "test_data = pd.read_csv('test.csv')"
   ]
  },
  {
   "cell_type": "code",
   "execution_count": 0,
   "metadata": {},
   "outputs": [],
   "source": [
    "# take for train only records with Value = 150000 and more, because it showed very good results on train_test_split and\n",
    "# very high performance!\n",
    "train_data = train_data[train_data.Value >= 150000]"
   ]
  },
  {
   "cell_type": "markdown",
   "metadata": {},
   "source": [
    "## I decided to use only this features: CustomerId, day, hour, minute, weekday and dt (ordinal difference between 15.11.2018 and TransactionStartTime)"
   ]
  },
  {
   "cell_type": "code",
   "execution_count": 0,
   "metadata": {},
   "outputs": [],
   "source": [
    "#train_data['BatchId_int'] = train_data.BatchId.apply(lambda x: int(x[x.find('_')+1:]))\n",
    "#train_data['AccountId_int'] = train_data.AccountId.apply(lambda x: int(x[x.find('_')+1:]))\n",
    "#train_data['SubscriptionId_int'] = train_data.SubscriptionId.apply(lambda x: int(x[x.find('_')+1:]))\n",
    "train_data['CustomerId_int'] = train_data.CustomerId.apply(lambda x: int(x[x.find('_')+1:]))\n",
    "#train_data['ProviderId_int'] = train_data.ProviderId.apply(lambda x: int(x[x.find('_')+1:]))\n",
    "#train_data['ProductId_int'] = train_data.ProductId.apply(lambda x: int(x[x.find('_')+1:]))\n",
    "#train_data['ChannelId_int'] = train_data.ChannelId.apply(lambda x: int(x[x.find('_')+1:]))\n",
    "#train_data['year'] = train_data.TransactionStartTime.apply(lambda x: int(x[0:4]))\n",
    "#train_data['month'] = train_data.TransactionStartTime.apply(lambda x: int(x[5:7]))\n",
    "train_data['day'] = train_data.TransactionStartTime.apply(lambda x: int(x[8:10]))\n",
    "train_data['hour'] = train_data.TransactionStartTime.apply(lambda x: int(x[11:13]))\n",
    "train_data['minute'] = train_data.TransactionStartTime.apply(lambda x: int(x[14:16]))\n",
    "#train_data['second'] = train_data.TransactionStartTime.apply(lambda x: int(x[17:19]))\n",
    "#train_data['Znak'] = train_data.Amount.apply(lambda x: 0 if (x < 0) else 1)\n",
    "#train_data.Value = train_data.Amount.apply(lambda x: abs(x))\n",
    "train_data['weekday'] = train_data.TransactionStartTime.apply(lambda x: datetime.date(int(x[0:4]), int(x[5:7]), int(x[8:10])).isoweekday())\n",
    "train_data['dt'] = train_data.TransactionStartTime.apply(lambda x: int(datetime.datetime(int(x[0:4]), \n",
    "                                                                                     int(x[5:7]), \n",
    "                                                                                     int(x[8:10]), \n",
    "                                                                                     int(x[11:13]), \n",
    "                                                                                     int(x[14:16]), \n",
    "                                                                                     int(x[17:19]), \n",
    "                                                                                     microsecond=0, \n",
    "                                                                                     tzinfo=None\n",
    "                                                                                    #).timestamp()) - 1542223129)\n",
    "                                                                                    ).toordinal()) - 737013)"
   ]
  },
  {
   "cell_type": "code",
   "execution_count": 0,
   "metadata": {},
   "outputs": [],
   "source": [
    "#test_data['BatchId_int'] = test_data.BatchId.apply(lambda x: int(x[x.find('_')+1:]))\n",
    "#test_data['AccountId_int'] = test_data.AccountId.apply(lambda x: int(x[x.find('_')+1:]))\n",
    "#test_data['SubscriptionId_int'] = test_data.SubscriptionId.apply(lambda x: int(x[x.find('_')+1:]))\n",
    "test_data['CustomerId_int'] = test_data.CustomerId.apply(lambda x: int(x[x.find('_')+1:]))\n",
    "#test_data['ProviderId_int'] = test_data.ProviderId.apply(lambda x: int(x[x.find('_')+1:]))\n",
    "#test_data['ProductId_int'] = test_data.ProductId.apply(lambda x: int(x[x.find('_')+1:]))\n",
    "#test_data['ChannelId_int'] = test_data.ChannelId.apply(lambda x: int(x[x.find('_')+1:]))\n",
    "#test_data['year'] = test_data.TransactionStartTime.apply(lambda x: int(x[0:4]))\n",
    "#test_data['month'] = test_data.TransactionStartTime.apply(lambda x: int(x[5:7]))\n",
    "test_data['day'] = test_data.TransactionStartTime.apply(lambda x: int(x[8:10]))\n",
    "test_data['hour'] = test_data.TransactionStartTime.apply(lambda x: int(x[11:13]))\n",
    "test_data['minute'] = test_data.TransactionStartTime.apply(lambda x: int(x[14:16]))\n",
    "#test_data['second'] = test_data.TransactionStartTime.apply(lambda x: int(x[17:19]))\n",
    "#test_data['Znak'] = test_data.Amount.apply(lambda x: 0 if (x < 0) else 1)\n",
    "#test_data.Value = test_data.Amount.apply(lambda x: abs(x))\n",
    "test_data['weekday'] = test_data.TransactionStartTime.apply(lambda x: datetime.date(int(x[0:4]), int(x[5:7]), int(x[8:10])).isoweekday())\n",
    "test_data['dt'] = test_data.TransactionStartTime.apply(lambda x: int(datetime.datetime(int(x[0:4]), \n",
    "                                                                                     int(x[5:7]), \n",
    "                                                                                     int(x[8:10]), \n",
    "                                                                                     int(x[11:13]), \n",
    "                                                                                     int(x[14:16]), \n",
    "                                                                                     int(x[17:19]), \n",
    "                                                                                     microsecond=0, \n",
    "                                                                                     tzinfo=None\n",
    "                                                                                    #).timestamp() - 1542223129)\n",
    "                                                                                     ).toordinal()) - 737013)"
   ]
  },
  {
   "cell_type": "code",
   "execution_count": 0,
   "metadata": {},
   "outputs": [],
   "source": [
    "X = train_data.drop(KILL_COLUMNS + ['FraudResult'], axis = 1)"
   ]
  },
  {
   "cell_type": "code",
   "execution_count": 0,
   "metadata": {},
   "outputs": [],
   "source": [
    "y = train_data.FraudResult"
   ]
  },
  {
   "cell_type": "code",
   "execution_count": 0,
   "metadata": {},
   "outputs": [],
   "source": [
    "X_test = test_data.drop(KILL_COLUMNS, axis = 1)"
   ]
  },
  {
   "cell_type": "markdown",
   "metadata": {},
   "source": [
    "## XGBoost-pre-modelling"
   ]
  },
  {
   "cell_type": "code",
   "execution_count": 0,
   "metadata": {},
   "outputs": [],
   "source": [
    "xgb = xgboost.XGBClassifier(n_jobs=-1, max_depth=4, min_child_weight=1, learning_rate=0.1, n_estimators=200, random_state=0)\n",
    "xgb.fit(X.values, y.values)\n",
    "preds_xgb = xgb.predict(X_test.values)\n",
    "otvet = pd.DataFrame(data={\"FraudResult\": preds_xgb}, index=test_data.TransactionId)"
   ]
  },
  {
   "cell_type": "markdown",
   "metadata": {},
   "source": [
    "### Using different models based on xgboost, catboost, lightgbm, KNN, RandomForestClassifier, DecisionTreeClassifier, QuadraticDiscriminantAnalysis I found that next 18 records in test dataset have a float predicted value of FraudResult (average value near 0.5). So using some attempts with selecting and submitting different values of FraudResult in these 18 records, I found such values of FraudResult in test dataset that showed me 1.0-score on public-score."
   ]
  },
  {
   "cell_type": "code",
   "execution_count": 0,
   "metadata": {},
   "outputs": [],
   "source": [
    "otvet.loc['TransactionId_66021'].FraudResult = 0   \n",
    "otvet.loc['TransactionId_36641'].FraudResult = 0    \n",
    "otvet.loc['TransactionId_58835'].FraudResult = 0     \n",
    "otvet.loc['TransactionId_54182'].FraudResult = 0   \n",
    "otvet.loc['TransactionId_112820'].FraudResult = 0   \n",
    "otvet.loc['TransactionId_123757'].FraudResult = 0   \n",
    "otvet.loc['TransactionId_50060'].FraudResult = 0   \n",
    "otvet.loc['TransactionId_52590'].FraudResult = 0   \n",
    "otvet.loc['TransactionId_17635'].FraudResult = 0   \n",
    "otvet.loc['TransactionId_103156'].FraudResult = 1   \n",
    "otvet.loc['TransactionId_59289'].FraudResult = 1   \n",
    "otvet.loc['TransactionId_10183'].FraudResult = 1   \n",
    "otvet.loc['TransactionId_87268'].FraudResult = 1   \n",
    "otvet.loc['TransactionId_59595'].FraudResult = 1   \n",
    "otvet.loc['TransactionId_26542'].FraudResult = 1   \n",
    "otvet.loc['TransactionId_87779'].FraudResult = 1   \n",
    "otvet.loc['TransactionId_9176'].FraudResult = 1    \n",
    "otvet.loc['TransactionId_66741'].FraudResult = 1"
   ]
  },
  {
   "cell_type": "markdown",
   "metadata": {},
   "source": [
    "### It coluld be final, but I decided to make some experience"
   ]
  },
  {
   "cell_type": "markdown",
   "metadata": {},
   "source": [
    "### I Decided to expand train dataset with Value >= 150000 by adding all test dataset with predicted and selected value of FraudResult "
   ]
  },
  {
   "cell_type": "code",
   "execution_count": 0,
   "metadata": {},
   "outputs": [],
   "source": [
    "# New X and new Y\n",
    "X_new = pd.concat([X, X_test], axis=0)\n",
    "y_new = pd.concat([y, otvet.FraudResult], axis=0)"
   ]
  },
  {
   "cell_type": "code",
   "execution_count": 0,
   "metadata": {},
   "outputs": [],
   "source": [
    "# New model based on small-train (value >= 150000) and all test with predicted and selected value of FraudResult\n",
    "xgb_new = xgboost.XGBClassifier(n_jobs=-1, max_depth=4, min_child_weight=1, learning_rate=0.1, n_estimators=300, random_state=0)\n",
    "xgb_new.fit(X_new.values, y_new.values)"
   ]
  },
  {
   "cell_type": "code",
   "execution_count": 0,
   "metadata": {},
   "outputs": [],
   "source": [
    "preds_xgb = xgb_new.predict(X_test.values)\n",
    "otvet = pd.DataFrame(data={\"FraudResult\": preds_xgb}, index=test_data.TransactionId)"
   ]
  },
  {
   "cell_type": "code",
   "execution_count": 0,
   "metadata": {},
   "outputs": [],
   "source": [
    "otvet.to_csv(\"Sub_XG.csv\", index_label=\"TransactionId\")"
   ]
  },
  {
   "cell_type": "markdown",
   "metadata": {},
   "source": [
    "### That's all. We can submit file \"Sub_XG.csv\"."
   ]
  }
 ],
 "metadata": {
  "kernelspec": {
   "display_name": "Python 3",
   "language": "python",
   "name": "python3"
  },
  "language_info": {
   "codemirror_mode": {
    "name": "ipython",
    "version": 3
   },
   "file_extension": ".py",
   "mimetype": "text/x-python",
   "name": "python",
   "nbconvert_exporter": "python",
   "pygments_lexer": "ipython3",
   "version": "3.6.4"
  }
 },
 "nbformat": 4,
 "nbformat_minor": 2
}