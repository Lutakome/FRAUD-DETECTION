{
 "cells": [
  {
   "cell_type": "markdown",
   "metadata": {},
   "source": [
    "## Introduction\n",
    "\n",
    "This model is in line with the competition held by [Zindi Africa](https://zindi.africa/competitions/xente-fraud-detection-challenge) in detecting fraudulent transactions.\n",
    "\n",
    "###### Environment setup \n",
    "Create an environment using an *Anaconda* with\n",
    "\n",
    "```conda create -n fraud python=3```\n",
    "\n",
    "Then activate the environment\n",
    "\n",
    "```source activate fraud```\n",
    "\n",
    "Install all the packages required for the setup:\n",
    "\n",
    " e.g ```conda install pandas```"
   ]
  },
  {
   "cell_type": "code",
   "execution_count": 2,
   "metadata": {},
   "outputs": [
    {
     "name": "stdout",
     "output_type": "stream",
     "text": [
      "Requirement already satisfied: seaborn in /home/philmassie/snap/jupyter/common/lib/python3.7/site-packages (0.9.0)\n",
      "Requirement already satisfied: numpy>=1.9.3 in /home/philmassie/snap/jupyter/common/lib/python3.7/site-packages (from seaborn) (1.17.2)\n",
      "Requirement already satisfied: scipy>=0.14.0 in /home/philmassie/snap/jupyter/common/lib/python3.7/site-packages (from seaborn) (1.3.1)\n",
      "Requirement already satisfied: matplotlib>=1.4.3 in /home/philmassie/snap/jupyter/common/lib/python3.7/site-packages (from seaborn) (3.1.1)\n",
      "Requirement already satisfied: pandas>=0.15.2 in /home/philmassie/snap/jupyter/common/lib/python3.7/site-packages (from seaborn) (0.25.1)\n",
      "Requirement already satisfied: cycler>=0.10 in /home/philmassie/snap/jupyter/common/lib/python3.7/site-packages (from matplotlib>=1.4.3->seaborn) (0.10.0)\n",
      "Requirement already satisfied: python-dateutil>=2.1 in /snap/jupyter/6/lib/python3.7/site-packages (from matplotlib>=1.4.3->seaborn) (2.8.0)\n",
      "Requirement already satisfied: pyparsing!=2.0.4,!=2.1.2,!=2.1.6,>=2.0.1 in /home/philmassie/snap/jupyter/common/lib/python3.7/site-packages (from matplotlib>=1.4.3->seaborn) (2.4.2)\n",
      "Requirement already satisfied: kiwisolver>=1.0.1 in /home/philmassie/snap/jupyter/common/lib/python3.7/site-packages (from matplotlib>=1.4.3->seaborn) (1.1.0)\n",
      "Requirement already satisfied: pytz>=2017.2 in /home/philmassie/snap/jupyter/common/lib/python3.7/site-packages (from pandas>=0.15.2->seaborn) (2019.2)\n",
      "Requirement already satisfied: six in /snap/jupyter/6/lib/python3.7/site-packages (from cycler>=0.10->matplotlib>=1.4.3->seaborn) (1.12.0)\n",
      "Requirement already satisfied: setuptools in /snap/jupyter/6/lib/python3.7/site-packages (from kiwisolver>=1.0.1->matplotlib>=1.4.3->seaborn) (41.0.1)\n",
      "Requirement already satisfied: matplotlib in /home/philmassie/snap/jupyter/common/lib/python3.7/site-packages (3.1.1)\n",
      "Requirement already satisfied: kiwisolver>=1.0.1 in /home/philmassie/snap/jupyter/common/lib/python3.7/site-packages (from matplotlib) (1.1.0)\n",
      "Requirement already satisfied: cycler>=0.10 in /home/philmassie/snap/jupyter/common/lib/python3.7/site-packages (from matplotlib) (0.10.0)\n",
      "Requirement already satisfied: pyparsing!=2.0.4,!=2.1.2,!=2.1.6,>=2.0.1 in /home/philmassie/snap/jupyter/common/lib/python3.7/site-packages (from matplotlib) (2.4.2)\n",
      "Requirement already satisfied: python-dateutil>=2.1 in /snap/jupyter/6/lib/python3.7/site-packages (from matplotlib) (2.8.0)\n",
      "Requirement already satisfied: numpy>=1.11 in /home/philmassie/snap/jupyter/common/lib/python3.7/site-packages (from matplotlib) (1.17.2)\n",
      "Requirement already satisfied: setuptools in /snap/jupyter/6/lib/python3.7/site-packages (from kiwisolver>=1.0.1->matplotlib) (41.0.1)\n",
      "Requirement already satisfied: six in /snap/jupyter/6/lib/python3.7/site-packages (from cycler>=0.10->matplotlib) (1.12.0)\n",
      "Collecting xgboost\n",
      "\u001b[?25l  Downloading https://files.pythonhosted.org/packages/c1/24/5fe7237b2eca13ee0cfb100bec8c23f4e69ce9df852a64b0493d49dae4e0/xgboost-0.90-py2.py3-none-manylinux1_x86_64.whl (142.8MB)\n",
      "\u001b[K     |████████████████████████████████| 142.8MB 411kB/s eta 0:00:01     |██████████████████▏             | 81.2MB 2.2MB/s eta 0:00:28     |███████████████████▊            | 88.2MB 2.8MB/s eta 0:00:20     |████████████████████▍           | 91.0MB 2.2MB/s eta 0:00:24     |███████████████████████▊        | 106.0MB 815kB/s eta 0:00:46     |██████████████████████████▌     | 118.3MB 3.9MB/s eta 0:00:07\n",
      "\u001b[?25hRequirement already satisfied: numpy in /home/philmassie/snap/jupyter/common/lib/python3.7/site-packages (from xgboost) (1.17.2)\n",
      "Requirement already satisfied: scipy in /home/philmassie/snap/jupyter/common/lib/python3.7/site-packages (from xgboost) (1.3.1)\n",
      "Installing collected packages: xgboost\n",
      "Successfully installed xgboost-0.90\n",
      "Requirement already satisfied: sklearn in /home/philmassie/snap/jupyter/common/lib/python3.7/site-packages (0.0)\n",
      "Requirement already satisfied: scikit-learn in /home/philmassie/snap/jupyter/common/lib/python3.7/site-packages (from sklearn) (0.21.3)\n",
      "Requirement already satisfied: joblib>=0.11 in /home/philmassie/snap/jupyter/common/lib/python3.7/site-packages (from scikit-learn->sklearn) (0.14.0)\n",
      "Requirement already satisfied: scipy>=0.17.0 in /home/philmassie/snap/jupyter/common/lib/python3.7/site-packages (from scikit-learn->sklearn) (1.3.1)\n",
      "Requirement already satisfied: numpy>=1.11.0 in /home/philmassie/snap/jupyter/common/lib/python3.7/site-packages (from scikit-learn->sklearn) (1.17.2)\n"
     ]
    }
   ],
   "source": [
    "!pip install seaborn\n",
    "!pip install  matplotlib\n",
    "!pip install xgboost\n",
    "!pip install sklearn"
   ]
  },
  {
   "cell_type": "code",
   "execution_count": 1,
   "metadata": {
    "_cell_guid": "b1076dfc-b9ad-4769-8c92-a6c4dae69d19",
    "_uuid": "8f2839f25d086af736a60e9eeb907d3b93b6e0e5"
   },
   "outputs": [],
   "source": [
    "import pandas as pd \n",
    "import seaborn as sns\n",
    "import matplotlib.pyplot as plt\n",
    "%matplotlib inline\n",
    "\n",
    "import xgboost as xgb\n",
    "from sklearn.ensemble import RandomForestClassifier\n",
    "from sklearn.metrics import classification_report\n",
    "from sklearn.model_selection import GridSearchCV\n",
    "from sklearn.model_selection import train_test_split\n",
    "\n",
    "\n",
    "import warnings\n",
    "warnings.filterwarnings(\"ignore\")"
   ]
  },
  {
   "cell_type": "code",
   "execution_count": 2,
   "metadata": {},
   "outputs": [],
   "source": [
    "sns.set(rc={'figure.figsize':(11,8)})"
   ]
  },
  {
   "cell_type": "markdown",
   "metadata": {},
   "source": [
    "##### 1. Load the dataset:\n",
    "Since we will combine both train and test data we will create a column name **train** which will distinguish them"
   ]
  },
  {
   "cell_type": "code",
   "execution_count": 3,
   "metadata": {},
   "outputs": [
    {
     "data": {
      "text/html": [
       "<div>\n",
       "<style scoped>\n",
       "    .dataframe tbody tr th:only-of-type {\n",
       "        vertical-align: middle;\n",
       "    }\n",
       "\n",
       "    .dataframe tbody tr th {\n",
       "        vertical-align: top;\n",
       "    }\n",
       "\n",
       "    .dataframe thead th {\n",
       "        text-align: right;\n",
       "    }\n",
       "</style>\n",
       "<table border=\"1\" class=\"dataframe\">\n",
       "  <thead>\n",
       "    <tr style=\"text-align: right;\">\n",
       "      <th></th>\n",
       "      <th>TransactionId</th>\n",
       "      <th>BatchId</th>\n",
       "      <th>AccountId</th>\n",
       "      <th>SubscriptionId</th>\n",
       "      <th>CustomerId</th>\n",
       "      <th>CurrencyCode</th>\n",
       "      <th>CountryCode</th>\n",
       "      <th>ProviderId</th>\n",
       "      <th>ProductId</th>\n",
       "      <th>ProductCategory</th>\n",
       "      <th>ChannelId</th>\n",
       "      <th>Amount</th>\n",
       "      <th>Value</th>\n",
       "      <th>TransactionStartTime</th>\n",
       "      <th>PricingStrategy</th>\n",
       "      <th>FraudResult</th>\n",
       "      <th>train</th>\n",
       "    </tr>\n",
       "  </thead>\n",
       "  <tbody>\n",
       "    <tr>\n",
       "      <td>0</td>\n",
       "      <td>TransactionId_76871</td>\n",
       "      <td>BatchId_36123</td>\n",
       "      <td>AccountId_3957</td>\n",
       "      <td>SubscriptionId_887</td>\n",
       "      <td>CustomerId_4406</td>\n",
       "      <td>UGX</td>\n",
       "      <td>256</td>\n",
       "      <td>ProviderId_6</td>\n",
       "      <td>ProductId_10</td>\n",
       "      <td>airtime</td>\n",
       "      <td>ChannelId_3</td>\n",
       "      <td>1000.0</td>\n",
       "      <td>1000</td>\n",
       "      <td>2018-11-15T02:18:49Z</td>\n",
       "      <td>2</td>\n",
       "      <td>0</td>\n",
       "      <td>1</td>\n",
       "    </tr>\n",
       "    <tr>\n",
       "      <td>1</td>\n",
       "      <td>TransactionId_73770</td>\n",
       "      <td>BatchId_15642</td>\n",
       "      <td>AccountId_4841</td>\n",
       "      <td>SubscriptionId_3829</td>\n",
       "      <td>CustomerId_4406</td>\n",
       "      <td>UGX</td>\n",
       "      <td>256</td>\n",
       "      <td>ProviderId_4</td>\n",
       "      <td>ProductId_6</td>\n",
       "      <td>financial_services</td>\n",
       "      <td>ChannelId_2</td>\n",
       "      <td>-20.0</td>\n",
       "      <td>20</td>\n",
       "      <td>2018-11-15T02:19:08Z</td>\n",
       "      <td>2</td>\n",
       "      <td>0</td>\n",
       "      <td>1</td>\n",
       "    </tr>\n",
       "    <tr>\n",
       "      <td>2</td>\n",
       "      <td>TransactionId_26203</td>\n",
       "      <td>BatchId_53941</td>\n",
       "      <td>AccountId_4229</td>\n",
       "      <td>SubscriptionId_222</td>\n",
       "      <td>CustomerId_4683</td>\n",
       "      <td>UGX</td>\n",
       "      <td>256</td>\n",
       "      <td>ProviderId_6</td>\n",
       "      <td>ProductId_1</td>\n",
       "      <td>airtime</td>\n",
       "      <td>ChannelId_3</td>\n",
       "      <td>500.0</td>\n",
       "      <td>500</td>\n",
       "      <td>2018-11-15T02:44:21Z</td>\n",
       "      <td>2</td>\n",
       "      <td>0</td>\n",
       "      <td>1</td>\n",
       "    </tr>\n",
       "    <tr>\n",
       "      <td>3</td>\n",
       "      <td>TransactionId_380</td>\n",
       "      <td>BatchId_102363</td>\n",
       "      <td>AccountId_648</td>\n",
       "      <td>SubscriptionId_2185</td>\n",
       "      <td>CustomerId_988</td>\n",
       "      <td>UGX</td>\n",
       "      <td>256</td>\n",
       "      <td>ProviderId_1</td>\n",
       "      <td>ProductId_21</td>\n",
       "      <td>utility_bill</td>\n",
       "      <td>ChannelId_3</td>\n",
       "      <td>20000.0</td>\n",
       "      <td>21800</td>\n",
       "      <td>2018-11-15T03:32:55Z</td>\n",
       "      <td>2</td>\n",
       "      <td>0</td>\n",
       "      <td>1</td>\n",
       "    </tr>\n",
       "    <tr>\n",
       "      <td>4</td>\n",
       "      <td>TransactionId_28195</td>\n",
       "      <td>BatchId_38780</td>\n",
       "      <td>AccountId_4841</td>\n",
       "      <td>SubscriptionId_3829</td>\n",
       "      <td>CustomerId_988</td>\n",
       "      <td>UGX</td>\n",
       "      <td>256</td>\n",
       "      <td>ProviderId_4</td>\n",
       "      <td>ProductId_6</td>\n",
       "      <td>financial_services</td>\n",
       "      <td>ChannelId_2</td>\n",
       "      <td>-644.0</td>\n",
       "      <td>644</td>\n",
       "      <td>2018-11-15T03:34:21Z</td>\n",
       "      <td>2</td>\n",
       "      <td>0</td>\n",
       "      <td>1</td>\n",
       "    </tr>\n",
       "  </tbody>\n",
       "</table>\n",
       "</div>"
      ],
      "text/plain": [
       "         TransactionId         BatchId       AccountId       SubscriptionId  \\\n",
       "0  TransactionId_76871   BatchId_36123  AccountId_3957   SubscriptionId_887   \n",
       "1  TransactionId_73770   BatchId_15642  AccountId_4841  SubscriptionId_3829   \n",
       "2  TransactionId_26203   BatchId_53941  AccountId_4229   SubscriptionId_222   \n",
       "3    TransactionId_380  BatchId_102363   AccountId_648  SubscriptionId_2185   \n",
       "4  TransactionId_28195   BatchId_38780  AccountId_4841  SubscriptionId_3829   \n",
       "\n",
       "        CustomerId CurrencyCode  CountryCode    ProviderId     ProductId  \\\n",
       "0  CustomerId_4406          UGX          256  ProviderId_6  ProductId_10   \n",
       "1  CustomerId_4406          UGX          256  ProviderId_4   ProductId_6   \n",
       "2  CustomerId_4683          UGX          256  ProviderId_6   ProductId_1   \n",
       "3   CustomerId_988          UGX          256  ProviderId_1  ProductId_21   \n",
       "4   CustomerId_988          UGX          256  ProviderId_4   ProductId_6   \n",
       "\n",
       "      ProductCategory    ChannelId   Amount  Value  TransactionStartTime  \\\n",
       "0             airtime  ChannelId_3   1000.0   1000  2018-11-15T02:18:49Z   \n",
       "1  financial_services  ChannelId_2    -20.0     20  2018-11-15T02:19:08Z   \n",
       "2             airtime  ChannelId_3    500.0    500  2018-11-15T02:44:21Z   \n",
       "3        utility_bill  ChannelId_3  20000.0  21800  2018-11-15T03:32:55Z   \n",
       "4  financial_services  ChannelId_2   -644.0    644  2018-11-15T03:34:21Z   \n",
       "\n",
       "   PricingStrategy  FraudResult  train  \n",
       "0                2            0      1  \n",
       "1                2            0      1  \n",
       "2                2            0      1  \n",
       "3                2            0      1  \n",
       "4                2            0      1  "
      ]
     },
     "execution_count": 3,
     "metadata": {},
     "output_type": "execute_result"
    }
   ],
   "source": [
    "train = pd.read_csv(\"training.csv\")\n",
    "train[\"train\"] = 1\n",
    "train.head()"
   ]
  },
  {
   "cell_type": "code",
   "execution_count": 4,
   "metadata": {},
   "outputs": [
    {
     "data": {
      "text/plain": [
       "(95662, 17)"
      ]
     },
     "execution_count": 4,
     "metadata": {},
     "output_type": "execute_result"
    }
   ],
   "source": [
    "train.shape"
   ]
  },
  {
   "cell_type": "markdown",
   "metadata": {},
   "source": [
    "Check the type of data we are dealing with"
   ]
  },
  {
   "cell_type": "code",
   "execution_count": 5,
   "metadata": {},
   "outputs": [
    {
     "data": {
      "text/html": [
       "<div>\n",
       "<style scoped>\n",
       "    .dataframe tbody tr th:only-of-type {\n",
       "        vertical-align: middle;\n",
       "    }\n",
       "\n",
       "    .dataframe tbody tr th {\n",
       "        vertical-align: top;\n",
       "    }\n",
       "\n",
       "    .dataframe thead th {\n",
       "        text-align: right;\n",
       "    }\n",
       "</style>\n",
       "<table border=\"1\" class=\"dataframe\">\n",
       "  <thead>\n",
       "    <tr style=\"text-align: right;\">\n",
       "      <th></th>\n",
       "      <th>column</th>\n",
       "      <th>unique_values</th>\n",
       "      <th>percentage_of_missing_values</th>\n",
       "      <th>data_type</th>\n",
       "    </tr>\n",
       "  </thead>\n",
       "  <tbody>\n",
       "    <tr>\n",
       "      <td>0</td>\n",
       "      <td>TransactionId</td>\n",
       "      <td>95662</td>\n",
       "      <td>0.0</td>\n",
       "      <td>object</td>\n",
       "    </tr>\n",
       "    <tr>\n",
       "      <td>1</td>\n",
       "      <td>BatchId</td>\n",
       "      <td>94809</td>\n",
       "      <td>0.0</td>\n",
       "      <td>object</td>\n",
       "    </tr>\n",
       "    <tr>\n",
       "      <td>2</td>\n",
       "      <td>AccountId</td>\n",
       "      <td>3633</td>\n",
       "      <td>0.0</td>\n",
       "      <td>object</td>\n",
       "    </tr>\n",
       "    <tr>\n",
       "      <td>3</td>\n",
       "      <td>SubscriptionId</td>\n",
       "      <td>3627</td>\n",
       "      <td>0.0</td>\n",
       "      <td>object</td>\n",
       "    </tr>\n",
       "    <tr>\n",
       "      <td>4</td>\n",
       "      <td>CustomerId</td>\n",
       "      <td>3742</td>\n",
       "      <td>0.0</td>\n",
       "      <td>object</td>\n",
       "    </tr>\n",
       "    <tr>\n",
       "      <td>5</td>\n",
       "      <td>CurrencyCode</td>\n",
       "      <td>1</td>\n",
       "      <td>0.0</td>\n",
       "      <td>object</td>\n",
       "    </tr>\n",
       "    <tr>\n",
       "      <td>6</td>\n",
       "      <td>CountryCode</td>\n",
       "      <td>1</td>\n",
       "      <td>0.0</td>\n",
       "      <td>int64</td>\n",
       "    </tr>\n",
       "    <tr>\n",
       "      <td>7</td>\n",
       "      <td>ProviderId</td>\n",
       "      <td>6</td>\n",
       "      <td>0.0</td>\n",
       "      <td>object</td>\n",
       "    </tr>\n",
       "    <tr>\n",
       "      <td>8</td>\n",
       "      <td>ProductId</td>\n",
       "      <td>23</td>\n",
       "      <td>0.0</td>\n",
       "      <td>object</td>\n",
       "    </tr>\n",
       "    <tr>\n",
       "      <td>9</td>\n",
       "      <td>ProductCategory</td>\n",
       "      <td>9</td>\n",
       "      <td>0.0</td>\n",
       "      <td>object</td>\n",
       "    </tr>\n",
       "    <tr>\n",
       "      <td>10</td>\n",
       "      <td>ChannelId</td>\n",
       "      <td>4</td>\n",
       "      <td>0.0</td>\n",
       "      <td>object</td>\n",
       "    </tr>\n",
       "    <tr>\n",
       "      <td>11</td>\n",
       "      <td>Amount</td>\n",
       "      <td>1676</td>\n",
       "      <td>0.0</td>\n",
       "      <td>float64</td>\n",
       "    </tr>\n",
       "    <tr>\n",
       "      <td>12</td>\n",
       "      <td>Value</td>\n",
       "      <td>1517</td>\n",
       "      <td>0.0</td>\n",
       "      <td>int64</td>\n",
       "    </tr>\n",
       "    <tr>\n",
       "      <td>13</td>\n",
       "      <td>TransactionStartTime</td>\n",
       "      <td>94556</td>\n",
       "      <td>0.0</td>\n",
       "      <td>object</td>\n",
       "    </tr>\n",
       "    <tr>\n",
       "      <td>14</td>\n",
       "      <td>PricingStrategy</td>\n",
       "      <td>4</td>\n",
       "      <td>0.0</td>\n",
       "      <td>int64</td>\n",
       "    </tr>\n",
       "    <tr>\n",
       "      <td>15</td>\n",
       "      <td>FraudResult</td>\n",
       "      <td>2</td>\n",
       "      <td>0.0</td>\n",
       "      <td>int64</td>\n",
       "    </tr>\n",
       "    <tr>\n",
       "      <td>16</td>\n",
       "      <td>train</td>\n",
       "      <td>1</td>\n",
       "      <td>0.0</td>\n",
       "      <td>int64</td>\n",
       "    </tr>\n",
       "  </tbody>\n",
       "</table>\n",
       "</div>"
      ],
      "text/plain": [
       "                  column  unique_values  percentage_of_missing_values  \\\n",
       "0          TransactionId          95662                           0.0   \n",
       "1                BatchId          94809                           0.0   \n",
       "2              AccountId           3633                           0.0   \n",
       "3         SubscriptionId           3627                           0.0   \n",
       "4             CustomerId           3742                           0.0   \n",
       "5           CurrencyCode              1                           0.0   \n",
       "6            CountryCode              1                           0.0   \n",
       "7             ProviderId              6                           0.0   \n",
       "8              ProductId             23                           0.0   \n",
       "9        ProductCategory              9                           0.0   \n",
       "10             ChannelId              4                           0.0   \n",
       "11                Amount           1676                           0.0   \n",
       "12                 Value           1517                           0.0   \n",
       "13  TransactionStartTime          94556                           0.0   \n",
       "14       PricingStrategy              4                           0.0   \n",
       "15           FraudResult              2                           0.0   \n",
       "16                 train              1                           0.0   \n",
       "\n",
       "   data_type  \n",
       "0     object  \n",
       "1     object  \n",
       "2     object  \n",
       "3     object  \n",
       "4     object  \n",
       "5     object  \n",
       "6      int64  \n",
       "7     object  \n",
       "8     object  \n",
       "9     object  \n",
       "10    object  \n",
       "11   float64  \n",
       "12     int64  \n",
       "13    object  \n",
       "14     int64  \n",
       "15     int64  \n",
       "16     int64  "
      ]
     },
     "execution_count": 5,
     "metadata": {},
     "output_type": "execute_result"
    }
   ],
   "source": [
    "statistics = []\n",
    "\n",
    "for column in train.columns:\n",
    "    statistics.append((column, train[column].nunique(), train[column].isnull().sum() * 100 / train.shape[0], train[column].dtype))\n",
    "    \n",
    "statistics_df = pd.DataFrame(statistics, columns=[\"column\", \"unique_values\", \"percentage_of_missing_values\", \"data_type\"])\n",
    "statistics_df\n"
   ]
  },
  {
   "cell_type": "markdown",
   "metadata": {},
   "source": [
    "From the table above, there are **no missing values** in the train dataset, we also get the data types of each features and also the **cardinality** of the data"
   ]
  },
  {
   "cell_type": "code",
   "execution_count": 6,
   "metadata": {},
   "outputs": [
    {
     "data": {
      "text/html": [
       "<div>\n",
       "<style scoped>\n",
       "    .dataframe tbody tr th:only-of-type {\n",
       "        vertical-align: middle;\n",
       "    }\n",
       "\n",
       "    .dataframe tbody tr th {\n",
       "        vertical-align: top;\n",
       "    }\n",
       "\n",
       "    .dataframe thead th {\n",
       "        text-align: right;\n",
       "    }\n",
       "</style>\n",
       "<table border=\"1\" class=\"dataframe\">\n",
       "  <thead>\n",
       "    <tr style=\"text-align: right;\">\n",
       "      <th></th>\n",
       "      <th>TransactionId</th>\n",
       "      <th>BatchId</th>\n",
       "      <th>AccountId</th>\n",
       "      <th>SubscriptionId</th>\n",
       "      <th>CustomerId</th>\n",
       "      <th>CurrencyCode</th>\n",
       "      <th>CountryCode</th>\n",
       "      <th>ProviderId</th>\n",
       "      <th>ProductId</th>\n",
       "      <th>ProductCategory</th>\n",
       "      <th>ChannelId</th>\n",
       "      <th>Amount</th>\n",
       "      <th>Value</th>\n",
       "      <th>TransactionStartTime</th>\n",
       "      <th>PricingStrategy</th>\n",
       "      <th>train</th>\n",
       "    </tr>\n",
       "  </thead>\n",
       "  <tbody>\n",
       "    <tr>\n",
       "      <td>0</td>\n",
       "      <td>TransactionId_50600</td>\n",
       "      <td>BatchId_35028</td>\n",
       "      <td>AccountId_2441</td>\n",
       "      <td>SubscriptionId_4426</td>\n",
       "      <td>CustomerId_2857</td>\n",
       "      <td>UGX</td>\n",
       "      <td>256</td>\n",
       "      <td>ProviderId_5</td>\n",
       "      <td>ProductId_3</td>\n",
       "      <td>airtime</td>\n",
       "      <td>ChannelId_3</td>\n",
       "      <td>1000.0</td>\n",
       "      <td>1000</td>\n",
       "      <td>2019-02-13T10:01:40Z</td>\n",
       "      <td>4</td>\n",
       "      <td>0</td>\n",
       "    </tr>\n",
       "    <tr>\n",
       "      <td>1</td>\n",
       "      <td>TransactionId_95109</td>\n",
       "      <td>BatchId_45139</td>\n",
       "      <td>AccountId_3439</td>\n",
       "      <td>SubscriptionId_2643</td>\n",
       "      <td>CustomerId_3874</td>\n",
       "      <td>UGX</td>\n",
       "      <td>256</td>\n",
       "      <td>ProviderId_5</td>\n",
       "      <td>ProductId_15</td>\n",
       "      <td>financial_services</td>\n",
       "      <td>ChannelId_3</td>\n",
       "      <td>2000.0</td>\n",
       "      <td>2000</td>\n",
       "      <td>2019-02-13T10:02:12Z</td>\n",
       "      <td>2</td>\n",
       "      <td>0</td>\n",
       "    </tr>\n",
       "    <tr>\n",
       "      <td>2</td>\n",
       "      <td>TransactionId_47357</td>\n",
       "      <td>BatchId_74887</td>\n",
       "      <td>AccountId_4841</td>\n",
       "      <td>SubscriptionId_3829</td>\n",
       "      <td>CustomerId_2857</td>\n",
       "      <td>UGX</td>\n",
       "      <td>256</td>\n",
       "      <td>ProviderId_4</td>\n",
       "      <td>ProductId_6</td>\n",
       "      <td>financial_services</td>\n",
       "      <td>ChannelId_2</td>\n",
       "      <td>-50.0</td>\n",
       "      <td>50</td>\n",
       "      <td>2019-02-13T10:02:30Z</td>\n",
       "      <td>2</td>\n",
       "      <td>0</td>\n",
       "    </tr>\n",
       "    <tr>\n",
       "      <td>3</td>\n",
       "      <td>TransactionId_28185</td>\n",
       "      <td>BatchId_11025</td>\n",
       "      <td>AccountId_2685</td>\n",
       "      <td>SubscriptionId_4626</td>\n",
       "      <td>CustomerId_3105</td>\n",
       "      <td>UGX</td>\n",
       "      <td>256</td>\n",
       "      <td>ProviderId_5</td>\n",
       "      <td>ProductId_10</td>\n",
       "      <td>airtime</td>\n",
       "      <td>ChannelId_3</td>\n",
       "      <td>3000.0</td>\n",
       "      <td>3000</td>\n",
       "      <td>2019-02-13T10:02:38Z</td>\n",
       "      <td>4</td>\n",
       "      <td>0</td>\n",
       "    </tr>\n",
       "    <tr>\n",
       "      <td>4</td>\n",
       "      <td>TransactionId_22140</td>\n",
       "      <td>BatchId_29804</td>\n",
       "      <td>AccountId_4841</td>\n",
       "      <td>SubscriptionId_3829</td>\n",
       "      <td>CustomerId_3105</td>\n",
       "      <td>UGX</td>\n",
       "      <td>256</td>\n",
       "      <td>ProviderId_4</td>\n",
       "      <td>ProductId_6</td>\n",
       "      <td>financial_services</td>\n",
       "      <td>ChannelId_2</td>\n",
       "      <td>-60.0</td>\n",
       "      <td>60</td>\n",
       "      <td>2019-02-13T10:02:58Z</td>\n",
       "      <td>2</td>\n",
       "      <td>0</td>\n",
       "    </tr>\n",
       "  </tbody>\n",
       "</table>\n",
       "</div>"
      ],
      "text/plain": [
       "         TransactionId        BatchId       AccountId       SubscriptionId  \\\n",
       "0  TransactionId_50600  BatchId_35028  AccountId_2441  SubscriptionId_4426   \n",
       "1  TransactionId_95109  BatchId_45139  AccountId_3439  SubscriptionId_2643   \n",
       "2  TransactionId_47357  BatchId_74887  AccountId_4841  SubscriptionId_3829   \n",
       "3  TransactionId_28185  BatchId_11025  AccountId_2685  SubscriptionId_4626   \n",
       "4  TransactionId_22140  BatchId_29804  AccountId_4841  SubscriptionId_3829   \n",
       "\n",
       "        CustomerId CurrencyCode  CountryCode    ProviderId     ProductId  \\\n",
       "0  CustomerId_2857          UGX          256  ProviderId_5   ProductId_3   \n",
       "1  CustomerId_3874          UGX          256  ProviderId_5  ProductId_15   \n",
       "2  CustomerId_2857          UGX          256  ProviderId_4   ProductId_6   \n",
       "3  CustomerId_3105          UGX          256  ProviderId_5  ProductId_10   \n",
       "4  CustomerId_3105          UGX          256  ProviderId_4   ProductId_6   \n",
       "\n",
       "      ProductCategory    ChannelId  Amount  Value  TransactionStartTime  \\\n",
       "0             airtime  ChannelId_3  1000.0   1000  2019-02-13T10:01:40Z   \n",
       "1  financial_services  ChannelId_3  2000.0   2000  2019-02-13T10:02:12Z   \n",
       "2  financial_services  ChannelId_2   -50.0     50  2019-02-13T10:02:30Z   \n",
       "3             airtime  ChannelId_3  3000.0   3000  2019-02-13T10:02:38Z   \n",
       "4  financial_services  ChannelId_2   -60.0     60  2019-02-13T10:02:58Z   \n",
       "\n",
       "   PricingStrategy  train  \n",
       "0                4      0  \n",
       "1                2      0  \n",
       "2                2      0  \n",
       "3                4      0  \n",
       "4                2      0  "
      ]
     },
     "execution_count": 6,
     "metadata": {},
     "output_type": "execute_result"
    }
   ],
   "source": [
    "test = pd.read_csv(\"test.csv\")\n",
    "test[\"train\"] = 0\n",
    "test.head()"
   ]
  },
  {
   "cell_type": "code",
   "execution_count": 7,
   "metadata": {},
   "outputs": [
    {
     "data": {
      "text/html": [
       "<div>\n",
       "<style scoped>\n",
       "    .dataframe tbody tr th:only-of-type {\n",
       "        vertical-align: middle;\n",
       "    }\n",
       "\n",
       "    .dataframe tbody tr th {\n",
       "        vertical-align: top;\n",
       "    }\n",
       "\n",
       "    .dataframe thead th {\n",
       "        text-align: right;\n",
       "    }\n",
       "</style>\n",
       "<table border=\"1\" class=\"dataframe\">\n",
       "  <thead>\n",
       "    <tr style=\"text-align: right;\">\n",
       "      <th></th>\n",
       "      <th>column</th>\n",
       "      <th>unique_values</th>\n",
       "      <th>percentage_of_missing_values</th>\n",
       "      <th>data_type</th>\n",
       "    </tr>\n",
       "  </thead>\n",
       "  <tbody>\n",
       "    <tr>\n",
       "      <td>0</td>\n",
       "      <td>TransactionId</td>\n",
       "      <td>45019</td>\n",
       "      <td>0.0</td>\n",
       "      <td>object</td>\n",
       "    </tr>\n",
       "    <tr>\n",
       "      <td>1</td>\n",
       "      <td>BatchId</td>\n",
       "      <td>44684</td>\n",
       "      <td>0.0</td>\n",
       "      <td>object</td>\n",
       "    </tr>\n",
       "    <tr>\n",
       "      <td>2</td>\n",
       "      <td>AccountId</td>\n",
       "      <td>2471</td>\n",
       "      <td>0.0</td>\n",
       "      <td>object</td>\n",
       "    </tr>\n",
       "    <tr>\n",
       "      <td>3</td>\n",
       "      <td>SubscriptionId</td>\n",
       "      <td>2470</td>\n",
       "      <td>0.0</td>\n",
       "      <td>object</td>\n",
       "    </tr>\n",
       "    <tr>\n",
       "      <td>4</td>\n",
       "      <td>CustomerId</td>\n",
       "      <td>5018</td>\n",
       "      <td>0.0</td>\n",
       "      <td>object</td>\n",
       "    </tr>\n",
       "    <tr>\n",
       "      <td>5</td>\n",
       "      <td>CurrencyCode</td>\n",
       "      <td>1</td>\n",
       "      <td>0.0</td>\n",
       "      <td>object</td>\n",
       "    </tr>\n",
       "    <tr>\n",
       "      <td>6</td>\n",
       "      <td>CountryCode</td>\n",
       "      <td>1</td>\n",
       "      <td>0.0</td>\n",
       "      <td>int64</td>\n",
       "    </tr>\n",
       "    <tr>\n",
       "      <td>7</td>\n",
       "      <td>ProviderId</td>\n",
       "      <td>6</td>\n",
       "      <td>0.0</td>\n",
       "      <td>object</td>\n",
       "    </tr>\n",
       "    <tr>\n",
       "      <td>8</td>\n",
       "      <td>ProductId</td>\n",
       "      <td>26</td>\n",
       "      <td>0.0</td>\n",
       "      <td>object</td>\n",
       "    </tr>\n",
       "    <tr>\n",
       "      <td>9</td>\n",
       "      <td>ProductCategory</td>\n",
       "      <td>9</td>\n",
       "      <td>0.0</td>\n",
       "      <td>object</td>\n",
       "    </tr>\n",
       "    <tr>\n",
       "      <td>10</td>\n",
       "      <td>ChannelId</td>\n",
       "      <td>5</td>\n",
       "      <td>0.0</td>\n",
       "      <td>object</td>\n",
       "    </tr>\n",
       "    <tr>\n",
       "      <td>11</td>\n",
       "      <td>Amount</td>\n",
       "      <td>998</td>\n",
       "      <td>0.0</td>\n",
       "      <td>float64</td>\n",
       "    </tr>\n",
       "    <tr>\n",
       "      <td>12</td>\n",
       "      <td>Value</td>\n",
       "      <td>944</td>\n",
       "      <td>0.0</td>\n",
       "      <td>int64</td>\n",
       "    </tr>\n",
       "    <tr>\n",
       "      <td>13</td>\n",
       "      <td>TransactionStartTime</td>\n",
       "      <td>44018</td>\n",
       "      <td>0.0</td>\n",
       "      <td>object</td>\n",
       "    </tr>\n",
       "    <tr>\n",
       "      <td>14</td>\n",
       "      <td>PricingStrategy</td>\n",
       "      <td>4</td>\n",
       "      <td>0.0</td>\n",
       "      <td>int64</td>\n",
       "    </tr>\n",
       "    <tr>\n",
       "      <td>15</td>\n",
       "      <td>train</td>\n",
       "      <td>1</td>\n",
       "      <td>0.0</td>\n",
       "      <td>int64</td>\n",
       "    </tr>\n",
       "  </tbody>\n",
       "</table>\n",
       "</div>"
      ],
      "text/plain": [
       "                  column  unique_values  percentage_of_missing_values  \\\n",
       "0          TransactionId          45019                           0.0   \n",
       "1                BatchId          44684                           0.0   \n",
       "2              AccountId           2471                           0.0   \n",
       "3         SubscriptionId           2470                           0.0   \n",
       "4             CustomerId           5018                           0.0   \n",
       "5           CurrencyCode              1                           0.0   \n",
       "6            CountryCode              1                           0.0   \n",
       "7             ProviderId              6                           0.0   \n",
       "8              ProductId             26                           0.0   \n",
       "9        ProductCategory              9                           0.0   \n",
       "10             ChannelId              5                           0.0   \n",
       "11                Amount            998                           0.0   \n",
       "12                 Value            944                           0.0   \n",
       "13  TransactionStartTime          44018                           0.0   \n",
       "14       PricingStrategy              4                           0.0   \n",
       "15                 train              1                           0.0   \n",
       "\n",
       "   data_type  \n",
       "0     object  \n",
       "1     object  \n",
       "2     object  \n",
       "3     object  \n",
       "4     object  \n",
       "5     object  \n",
       "6      int64  \n",
       "7     object  \n",
       "8     object  \n",
       "9     object  \n",
       "10    object  \n",
       "11   float64  \n",
       "12     int64  \n",
       "13    object  \n",
       "14     int64  \n",
       "15     int64  "
      ]
     },
     "execution_count": 7,
     "metadata": {},
     "output_type": "execute_result"
    }
   ],
   "source": [
    "statistics_test = []\n",
    "\n",
    "for column in test.columns:\n",
    "    statistics_test.append((column, test[column].nunique(), test[column].isnull().sum() * 100 / test.shape[0], test[column].dtype))\n",
    "    \n",
    "statistics_test_df = pd.DataFrame(statistics_test, columns=[\"column\", \"unique_values\", \"percentage_of_missing_values\", \"data_type\"])\n",
    "statistics_test_df"
   ]
  },
  {
   "cell_type": "markdown",
   "metadata": {},
   "source": [
    "There also **no missing values** in the test dataset."
   ]
  },
  {
   "cell_type": "markdown",
   "metadata": {},
   "source": [
    "##### 2.Data Exploration"
   ]
  },
  {
   "cell_type": "markdown",
   "metadata": {},
   "source": [
    "###### 2.1 Label column distribution"
   ]
  },
  {
   "cell_type": "code",
   "execution_count": 8,
   "metadata": {},
   "outputs": [
    {
     "data": {
      "text/plain": [
       "<matplotlib.axes._subplots.AxesSubplot at 0x7fe2901e6780>"
      ]
     },
     "execution_count": 8,
     "metadata": {},
     "output_type": "execute_result"
    },
    {
     "data": {
      "image/png": "[encoded data removed]",
      "text/plain": [
       "<Figure size 792x576 with 1 Axes>"
      ]
     },
     "metadata": {},
     "output_type": "display_data"
    }
   ],
   "source": [
    "sns.countplot(train[\"FraudResult\"])"
   ]
  },
  {
   "cell_type": "code",
   "execution_count": 9,
   "metadata": {},
   "outputs": [
    {
     "name": "stdout",
     "output_type": "stream",
     "text": [
      "Non Fraud case 99.798 % of the dataset\n",
      "Fraud case 0.202 % of the dataset\n"
     ]
    }
   ],
   "source": [
    "print(\"Non Fraud case\", round(train[\"FraudResult\"].value_counts()[0]/ len(train) * 100, 3), \"% of the dataset\")\n",
    "print(\"Fraud case\", round(train[\"FraudResult\"].value_counts()[1]/ len(train) * 100, 3), \"% of the dataset\")"
   ]
  },
  {
   "cell_type": "markdown",
   "metadata": {},
   "source": [
    "This shows a case scenario of imbalanced dataset. One class(for this cass where FraudResult is 0) is highly represented. There various ways of handing imbalaced dataset:\n",
    "    1. Overampling - \n",
    "    2. Undersampling - \n",
    "    3. Synthetic Sample - SMOTE\n",
    "    4. Algorithm designed for imbalance dataset e.g XgBoost"
   ]
  },
  {
   "cell_type": "markdown",
   "metadata": {},
   "source": [
    "###### 2.2 Provider Id distribution"
   ]
  },
  {
   "cell_type": "code",
   "execution_count": 10,
   "metadata": {
    "scrolled": true
   },
   "outputs": [
    {
     "data": {
      "text/plain": [
       "<matplotlib.axes._subplots.AxesSubplot at 0x7fe29013de10>"
      ]
     },
     "execution_count": 10,
     "metadata": {},
     "output_type": "execute_result"
    },
    {
     "data": {
      "image/png": "[encoded data removed]",
      "text/plain": [
       "<Figure size 792x576 with 1 Axes>"
      ]
     },
     "metadata": {},
     "output_type": "display_data"
    }
   ],
   "source": [
    "sns.countplot(train['ProviderId'], hue=train['FraudResult'])"
   ]
  },
  {
   "cell_type": "markdown",
   "metadata": {},
   "source": [
    "**Note** Since this data is imbalanced it is hard to do visualization on all the train dataset, we will look at the dataset where there are cases of fraud. But we will also explore the whole dataset since we need to look at presence of each feature in relation to whether fraud or not"
   ]
  },
  {
   "cell_type": "code",
   "execution_count": 11,
   "metadata": {},
   "outputs": [],
   "source": [
    "fraud_df = train[train[\"FraudResult\"] == 1]"
   ]
  },
  {
   "cell_type": "code",
   "execution_count": 12,
   "metadata": {},
   "outputs": [
    {
     "data": {
      "text/plain": [
       "<matplotlib.axes._subplots.AxesSubplot at 0x7fe28fc174a8>"
      ]
     },
     "execution_count": 12,
     "metadata": {},
     "output_type": "execute_result"
    },
    {
     "data": {
      "image/png": "[encoded data removed]",
      "text/plain": [
       "<Figure size 792x576 with 1 Axes>"
      ]
     },
     "metadata": {},
     "output_type": "display_data"
    }
   ],
   "source": [
    "sns.countplot(fraud_df[\"ProviderId\"])"
   ]
  },
  {
   "cell_type": "markdown",
   "metadata": {},
   "source": [
    "Some provider are more prone to fraud than other."
   ]
  },
  {
   "cell_type": "markdown",
   "metadata": {},
   "source": [
    "###### 2.3 ProductId distribution"
   ]
  },
  {
   "cell_type": "code",
   "execution_count": 13,
   "metadata": {},
   "outputs": [
    {
     "data": {
      "text/plain": [
       "<matplotlib.axes._subplots.AxesSubplot at 0x7fe2904fa4a8>"
      ]
     },
     "execution_count": 13,
     "metadata": {},
     "output_type": "execute_result"
    },
    {
     "data": {
      "image/png": "[encoded data removed]",
      "text/plain": [
       "<Figure size 792x576 with 1 Axes>"
      ]
     },
     "metadata": {},
     "output_type": "display_data"
    }
   ],
   "source": [
    "sns.countplot(fraud_df[\"ProductId\"])"
   ]
  },
  {
   "cell_type": "markdown",
   "metadata": {},
   "source": [
    "###### 2.4 ProductCategory"
   ]
  },
  {
   "cell_type": "code",
   "execution_count": 14,
   "metadata": {},
   "outputs": [
    {
     "data": {
      "text/plain": [
       "<matplotlib.axes._subplots.AxesSubplot at 0x7fe290460240>"
      ]
     },
     "execution_count": 14,
     "metadata": {},
     "output_type": "execute_result"
    },
    {
     "data": {
      "image/png": "[encoded data removed]",
      "text/plain": [
       "<Figure size 792x576 with 1 Axes>"
      ]
     },
     "metadata": {},
     "output_type": "display_data"
    }
   ],
   "source": [
    "sns.countplot(train['ProductCategory'], hue=train['FraudResult'])"
   ]
  },
  {
   "cell_type": "code",
   "execution_count": 15,
   "metadata": {},
   "outputs": [
    {
     "data": {
      "text/plain": [
       "<matplotlib.axes._subplots.AxesSubplot at 0x7fe290403b00>"
      ]
     },
     "execution_count": 15,
     "metadata": {},
     "output_type": "execute_result"
    },
    {
     "data": {
      "image/png": "[encoded data removed]",
      "text/plain": [
       "<Figure size 792x576 with 1 Axes>"
      ]
     },
     "metadata": {},
     "output_type": "display_data"
    }
   ],
   "source": [
    "sns.countplot(fraud_df[\"ProductCategory\"])"
   ]
  },
  {
   "cell_type": "code",
   "execution_count": 16,
   "metadata": {},
   "outputs": [
    {
     "data": {
      "text/plain": [
       "<matplotlib.axes._subplots.AxesSubplot at 0x7fe290354e10>"
      ]
     },
     "execution_count": 16,
     "metadata": {},
     "output_type": "execute_result"
    },
    {
     "data": {
      "image/png": "[encoded data removed]",
      "text/plain": [
       "<Figure size 792x576 with 1 Axes>"
      ]
     },
     "metadata": {},
     "output_type": "display_data"
    }
   ],
   "source": [
    "#ChannelId\n",
    "sns.countplot(train['ChannelId'], hue=train['FraudResult'])"
   ]
  },
  {
   "cell_type": "markdown",
   "metadata": {},
   "source": [
    "###### 2.5 ChannelId"
   ]
  },
  {
   "cell_type": "code",
   "execution_count": 17,
   "metadata": {},
   "outputs": [
    {
     "data": {
      "text/plain": [
       "<matplotlib.axes._subplots.AxesSubplot at 0x7fe290331c50>"
      ]
     },
     "execution_count": 17,
     "metadata": {},
     "output_type": "execute_result"
    },
    {
     "data": {
      "image/png": "[encoded data removed]",
      "text/plain": [
       "<Figure size 792x576 with 1 Axes>"
      ]
     },
     "metadata": {},
     "output_type": "display_data"
    }
   ],
   "source": [
    "sns.countplot(fraud_df[\"ChannelId\"])"
   ]
  },
  {
   "cell_type": "markdown",
   "metadata": {},
   "source": [
    "###### 2.6 PricingStrategy"
   ]
  },
  {
   "cell_type": "code",
   "execution_count": 18,
   "metadata": {},
   "outputs": [
    {
     "data": {
      "text/plain": [
       "<matplotlib.axes._subplots.AxesSubplot at 0x7fe290309a20>"
      ]
     },
     "execution_count": 18,
     "metadata": {},
     "output_type": "execute_result"
    },
    {
     "data": {
      "image/png": "[encoded data removed]",
      "text/plain": [
       "<Figure size 792x576 with 1 Axes>"
      ]
     },
     "metadata": {},
     "output_type": "display_data"
    }
   ],
   "source": [
    "sns.countplot(train['PricingStrategy'], hue=train['FraudResult'])"
   ]
  },
  {
   "cell_type": "code",
   "execution_count": 19,
   "metadata": {},
   "outputs": [
    {
     "data": {
      "text/plain": [
       "<matplotlib.axes._subplots.AxesSubplot at 0x7fe290282588>"
      ]
     },
     "execution_count": 19,
     "metadata": {},
     "output_type": "execute_result"
    },
    {
     "data": {
      "image/png": "[encoded data removed]",
      "text/plain": [
       "<Figure size 792x576 with 1 Axes>"
      ]
     },
     "metadata": {},
     "output_type": "display_data"
    }
   ],
   "source": [
    "sns.countplot(fraud_df[\"PricingStrategy\"])"
   ]
  },
  {
   "cell_type": "markdown",
   "metadata": {},
   "source": [
    "\n",
    "\n",
    "\n",
    "\n"
   ]
  },
  {
   "cell_type": "markdown",
   "metadata": {},
   "source": [
    "\n",
    "\n"
   ]
  },
  {
   "cell_type": "markdown",
   "metadata": {},
   "source": [
    "From the above we see that all these features are important in determining if transaction was fraud or not.\n",
    "We will preprocess these features to feed them to the model."
   ]
  },
  {
   "cell_type": "markdown",
   "metadata": {},
   "source": [
    "##### 3. Data preprocessing"
   ]
  },
  {
   "cell_type": "code",
   "execution_count": 20,
   "metadata": {},
   "outputs": [],
   "source": [
    "# combine both train and test data\n",
    "dataset = pd.concat([train, test], ignore_index=True)"
   ]
  },
  {
   "cell_type": "markdown",
   "metadata": {},
   "source": [
    "From the **statistics_df** we can see some of the features are categorical. We will encode these features using pandas method **get_gummies**. Also features with high cardinality are not encoded."
   ]
  },
  {
   "cell_type": "code",
   "execution_count": 21,
   "metadata": {},
   "outputs": [],
   "source": [
    "dataset = pd.concat([dataset, pd.get_dummies(dataset[\"ChannelId\"], prefix=\"Channel_Id_\")], axis=1)\n",
    "dataset = pd.concat([dataset, pd.get_dummies(dataset[\"PricingStrategy\"], prefix=\"PricingStrategy_\")], axis=1)\n",
    "dataset = pd.concat([dataset, pd.get_dummies(dataset[\"ProductCategory\"], prefix=\"ProductCategory_\")], axis=1)\n",
    "dataset = pd.concat([dataset, pd.get_dummies(dataset[\"ProductId\"], prefix=\"ProductId_\")], axis=1)\n",
    "dataset = pd.concat([dataset, pd.get_dummies(dataset[\"ProviderId\"], prefix=\"ProviderId_\")], axis=1)\n"
   ]
  },
  {
   "cell_type": "markdown",
   "metadata": {},
   "source": [
    "The time column  has a datatype of an object, we convert it to datetime so that we derive various features from it, e.g day of week "
   ]
  },
  {
   "cell_type": "code",
   "execution_count": 22,
   "metadata": {},
   "outputs": [],
   "source": [
    "# time\n",
    "dataset[\"TransactionStartTime\"] = dataset[\"TransactionStartTime\"].apply(lambda x : pd.to_datetime(x))\n",
    "dataset[\"day_of_week\"] = dataset[\"TransactionStartTime\"].dt.dayofweek\n",
    "dataset[\"time\"] = dataset[\"TransactionStartTime\"].dt.time\n",
    "dataset[\"second\"] = dataset[\"time\"].apply(lambda x: int(str(x).split(\":\")[0]) * 3600 + int(str(x).split(\":\")[1]) * 60 + int(str(x).split(\":\")[2]))"
   ]
  },
  {
   "cell_type": "code",
   "execution_count": 23,
   "metadata": {},
   "outputs": [
    {
     "data": {
      "text/html": [
       "<div>\n",
       "<style scoped>\n",
       "    .dataframe tbody tr th:only-of-type {\n",
       "        vertical-align: middle;\n",
       "    }\n",
       "\n",
       "    .dataframe tbody tr th {\n",
       "        vertical-align: top;\n",
       "    }\n",
       "\n",
       "    .dataframe thead th {\n",
       "        text-align: right;\n",
       "    }\n",
       "</style>\n",
       "<table border=\"1\" class=\"dataframe\">\n",
       "  <thead>\n",
       "    <tr style=\"text-align: right;\">\n",
       "      <th></th>\n",
       "      <th>AccountId</th>\n",
       "      <th>Amount</th>\n",
       "      <th>BatchId</th>\n",
       "      <th>ChannelId</th>\n",
       "      <th>CountryCode</th>\n",
       "      <th>CurrencyCode</th>\n",
       "      <th>CustomerId</th>\n",
       "      <th>FraudResult</th>\n",
       "      <th>PricingStrategy</th>\n",
       "      <th>ProductCategory</th>\n",
       "      <th>...</th>\n",
       "      <th>ProductId__ProductId_9</th>\n",
       "      <th>ProviderId__ProviderId_1</th>\n",
       "      <th>ProviderId__ProviderId_2</th>\n",
       "      <th>ProviderId__ProviderId_3</th>\n",
       "      <th>ProviderId__ProviderId_4</th>\n",
       "      <th>ProviderId__ProviderId_5</th>\n",
       "      <th>ProviderId__ProviderId_6</th>\n",
       "      <th>day_of_week</th>\n",
       "      <th>time</th>\n",
       "      <th>second</th>\n",
       "    </tr>\n",
       "  </thead>\n",
       "  <tbody>\n",
       "    <tr>\n",
       "      <td>0</td>\n",
       "      <td>AccountId_3957</td>\n",
       "      <td>1000.0</td>\n",
       "      <td>BatchId_36123</td>\n",
       "      <td>ChannelId_3</td>\n",
       "      <td>256</td>\n",
       "      <td>UGX</td>\n",
       "      <td>CustomerId_4406</td>\n",
       "      <td>0.0</td>\n",
       "      <td>2</td>\n",
       "      <td>airtime</td>\n",
       "      <td>...</td>\n",
       "      <td>0</td>\n",
       "      <td>0</td>\n",
       "      <td>0</td>\n",
       "      <td>0</td>\n",
       "      <td>0</td>\n",
       "      <td>0</td>\n",
       "      <td>1</td>\n",
       "      <td>3</td>\n",
       "      <td>02:18:49</td>\n",
       "      <td>8329</td>\n",
       "    </tr>\n",
       "    <tr>\n",
       "      <td>1</td>\n",
       "      <td>AccountId_4841</td>\n",
       "      <td>-20.0</td>\n",
       "      <td>BatchId_15642</td>\n",
       "      <td>ChannelId_2</td>\n",
       "      <td>256</td>\n",
       "      <td>UGX</td>\n",
       "      <td>CustomerId_4406</td>\n",
       "      <td>0.0</td>\n",
       "      <td>2</td>\n",
       "      <td>financial_services</td>\n",
       "      <td>...</td>\n",
       "      <td>0</td>\n",
       "      <td>0</td>\n",
       "      <td>0</td>\n",
       "      <td>0</td>\n",
       "      <td>1</td>\n",
       "      <td>0</td>\n",
       "      <td>0</td>\n",
       "      <td>3</td>\n",
       "      <td>02:19:08</td>\n",
       "      <td>8348</td>\n",
       "    </tr>\n",
       "    <tr>\n",
       "      <td>2</td>\n",
       "      <td>AccountId_4229</td>\n",
       "      <td>500.0</td>\n",
       "      <td>BatchId_53941</td>\n",
       "      <td>ChannelId_3</td>\n",
       "      <td>256</td>\n",
       "      <td>UGX</td>\n",
       "      <td>CustomerId_4683</td>\n",
       "      <td>0.0</td>\n",
       "      <td>2</td>\n",
       "      <td>airtime</td>\n",
       "      <td>...</td>\n",
       "      <td>0</td>\n",
       "      <td>0</td>\n",
       "      <td>0</td>\n",
       "      <td>0</td>\n",
       "      <td>0</td>\n",
       "      <td>0</td>\n",
       "      <td>1</td>\n",
       "      <td>3</td>\n",
       "      <td>02:44:21</td>\n",
       "      <td>9861</td>\n",
       "    </tr>\n",
       "    <tr>\n",
       "      <td>3</td>\n",
       "      <td>AccountId_648</td>\n",
       "      <td>20000.0</td>\n",
       "      <td>BatchId_102363</td>\n",
       "      <td>ChannelId_3</td>\n",
       "      <td>256</td>\n",
       "      <td>UGX</td>\n",
       "      <td>CustomerId_988</td>\n",
       "      <td>0.0</td>\n",
       "      <td>2</td>\n",
       "      <td>utility_bill</td>\n",
       "      <td>...</td>\n",
       "      <td>0</td>\n",
       "      <td>1</td>\n",
       "      <td>0</td>\n",
       "      <td>0</td>\n",
       "      <td>0</td>\n",
       "      <td>0</td>\n",
       "      <td>0</td>\n",
       "      <td>3</td>\n",
       "      <td>03:32:55</td>\n",
       "      <td>12775</td>\n",
       "    </tr>\n",
       "    <tr>\n",
       "      <td>4</td>\n",
       "      <td>AccountId_4841</td>\n",
       "      <td>-644.0</td>\n",
       "      <td>BatchId_38780</td>\n",
       "      <td>ChannelId_2</td>\n",
       "      <td>256</td>\n",
       "      <td>UGX</td>\n",
       "      <td>CustomerId_988</td>\n",
       "      <td>0.0</td>\n",
       "      <td>2</td>\n",
       "      <td>financial_services</td>\n",
       "      <td>...</td>\n",
       "      <td>0</td>\n",
       "      <td>0</td>\n",
       "      <td>0</td>\n",
       "      <td>0</td>\n",
       "      <td>1</td>\n",
       "      <td>0</td>\n",
       "      <td>0</td>\n",
       "      <td>3</td>\n",
       "      <td>03:34:21</td>\n",
       "      <td>12861</td>\n",
       "    </tr>\n",
       "  </tbody>\n",
       "</table>\n",
       "<p>5 rows × 72 columns</p>\n",
       "</div>"
      ],
      "text/plain": [
       "        AccountId   Amount         BatchId    ChannelId  CountryCode  \\\n",
       "0  AccountId_3957   1000.0   BatchId_36123  ChannelId_3          256   \n",
       "1  AccountId_4841    -20.0   BatchId_15642  ChannelId_2          256   \n",
       "2  AccountId_4229    500.0   BatchId_53941  ChannelId_3          256   \n",
       "3   AccountId_648  20000.0  BatchId_102363  ChannelId_3          256   \n",
       "4  AccountId_4841   -644.0   BatchId_38780  ChannelId_2          256   \n",
       "\n",
       "  CurrencyCode       CustomerId  FraudResult  PricingStrategy  \\\n",
       "0          UGX  CustomerId_4406          0.0                2   \n",
       "1          UGX  CustomerId_4406          0.0                2   \n",
       "2          UGX  CustomerId_4683          0.0                2   \n",
       "3          UGX   CustomerId_988          0.0                2   \n",
       "4          UGX   CustomerId_988          0.0                2   \n",
       "\n",
       "      ProductCategory  ... ProductId__ProductId_9 ProviderId__ProviderId_1  \\\n",
       "0             airtime  ...                      0                        0   \n",
       "1  financial_services  ...                      0                        0   \n",
       "2             airtime  ...                      0                        0   \n",
       "3        utility_bill  ...                      0                        1   \n",
       "4  financial_services  ...                      0                        0   \n",
       "\n",
       "  ProviderId__ProviderId_2 ProviderId__ProviderId_3 ProviderId__ProviderId_4  \\\n",
       "0                        0                        0                        0   \n",
       "1                        0                        0                        1   \n",
       "2                        0                        0                        0   \n",
       "3                        0                        0                        0   \n",
       "4                        0                        0                        1   \n",
       "\n",
       "   ProviderId__ProviderId_5  ProviderId__ProviderId_6  day_of_week      time  \\\n",
       "0                         0                         1            3  02:18:49   \n",
       "1                         0                         0            3  02:19:08   \n",
       "2                         0                         1            3  02:44:21   \n",
       "3                         0                         0            3  03:32:55   \n",
       "4                         0                         0            3  03:34:21   \n",
       "\n",
       "   second  \n",
       "0    8329  \n",
       "1    8348  \n",
       "2    9861  \n",
       "3   12775  \n",
       "4   12861  \n",
       "\n",
       "[5 rows x 72 columns]"
      ]
     },
     "execution_count": 23,
     "metadata": {},
     "output_type": "execute_result"
    }
   ],
   "source": [
    "dataset.head()"
   ]
  },
  {
   "cell_type": "markdown",
   "metadata": {},
   "source": [
    "Always remember to convert the engineered features as well if they are categorical."
   ]
  },
  {
   "cell_type": "code",
   "execution_count": 24,
   "metadata": {},
   "outputs": [],
   "source": [
    "dataset = pd.concat([dataset, pd.get_dummies(dataset[\"day_of_week\"], prefix=\"day_of_week_\")], axis=1)"
   ]
  },
  {
   "cell_type": "code",
   "execution_count": 25,
   "metadata": {},
   "outputs": [],
   "source": [
    "# id\n",
    "dataset[\"AccountId\"] = dataset[\"AccountId\"].apply(lambda x: int(x.split(\"_\")[1]))\n",
    "dataset[\"CustomerId\"] = dataset[\"CustomerId\"].apply(lambda x: int(x.split(\"_\")[1]))\n",
    "dataset[\"SubscriptionId\"] = dataset[\"SubscriptionId\"].apply(lambda x: int(x.split(\"_\")[1]))\n"
   ]
  },
  {
   "cell_type": "markdown",
   "metadata": {},
   "source": [
    "Generate new features by using groupby. At this stage I also generate random noise to the dataset and create duplicate samples of the data. This will help deal with a bit of imblance data."
   ]
  },
  {
   "cell_type": "code",
   "execution_count": 26,
   "metadata": {},
   "outputs": [],
   "source": [
    "group = dataset[['CustomerId', 'ProductId', 'ProviderId', 'ChannelId', 'Amount', 'day_of_week']].groupby(by=['CustomerId', 'ProductId', 'ProviderId', 'ChannelId', 'Amount',])[['day_of_week']].mean().reset_index().rename(index=str, columns={'day_of_week': 'Cust_prod_mean_dayofweek'})\n",
    "dataset = dataset.merge(group, on=['CustomerId', 'ProductId', 'ProviderId', 'ChannelId',], how='left')"
   ]
  },
  {
   "cell_type": "code",
   "execution_count": 27,
   "metadata": {},
   "outputs": [],
   "source": [
    "#Drop unwanted columns.\n",
    "dataset.drop([\"CurrencyCode\",  \"CountryCode\", \"BatchId\", \"ChannelId\",  \"PricingStrategy\", \"ProductCategory\", \"ProductId\", \"ProviderId\", \"time\", \"TransactionStartTime\",], axis=1, inplace=True)"
   ]
  },
  {
   "cell_type": "code",
   "execution_count": 28,
   "metadata": {},
   "outputs": [],
   "source": [
    "train = dataset[dataset[\"train\"] == 1]\n",
    "test = dataset[dataset[\"train\"] == 0]"
   ]
  },
  {
   "cell_type": "code",
   "execution_count": 29,
   "metadata": {},
   "outputs": [],
   "source": [
    "train.drop([\"train\"], axis=1, inplace=True)\n",
    "test.drop([\"train\", \"FraudResult\"], axis=1, inplace=True)"
   ]
  },
  {
   "cell_type": "code",
   "execution_count": 30,
   "metadata": {},
   "outputs": [],
   "source": [
    "X = train.drop([\"TransactionId\", \"FraudResult\"], axis=1)\n",
    "y = train[\"FraudResult\"]"
   ]
  },
  {
   "cell_type": "markdown",
   "metadata": {},
   "source": [
    "Split the dataset into train and test, also for such an imbalanced dataset, it a good practise to look at the percentage of fraud data in both datasets "
   ]
  },
  {
   "cell_type": "code",
   "execution_count": 31,
   "metadata": {},
   "outputs": [
    {
     "name": "stdout",
     "output_type": "stream",
     "text": [
      "Fraud case 0.30303583490023545 % of the dataset\n",
      "Train size 587230 Fraud in train size 0.30788617747730873\n",
      "Test size 289234 Fraud in tesst size 0.29318821438696696\n"
     ]
    }
   ],
   "source": [
    "X_train, X_test, y_train, y_test = train_test_split(X, y, test_size=0.33, random_state=42)\n",
    "\n",
    "print(\"Fraud case\", (train[\"FraudResult\"].value_counts()[1]/ len(train) * 100), \"% of the dataset\")\n",
    "print (\"Train size\", y_train.shape[0], \"Fraud in train size\", y_train[y_train == 1].shape[0] / y_train.shape[0] * 100)\n",
    "print (\"Test size\", y_test.shape[0], \"Fraud in tesst size\", y_test[y_test == 1].shape[0] / y_test.shape[0] * 100)"
   ]
  },
  {
   "cell_type": "markdown",
   "metadata": {},
   "source": [
    "#####  4. Model selection and training"
   ]
  },
  {
   "cell_type": "markdown",
   "metadata": {},
   "source": [
    "###### 4.1 Random Forest Classifier"
   ]
  },
  {
   "cell_type": "markdown",
   "metadata": {},
   "source": [
    "**Note** for the parameter tuning and selection, I used **Grid Serach CV**, I'm also using **Random state** to make the code reproducable when run mutliple times the data will be split the same."
   ]
  },
  {
   "cell_type": "code",
   "execution_count": 32,
   "metadata": {},
   "outputs": [],
   "source": [
    "rfc = RandomForestClassifier(random_state=1, n_estimators=200, max_depth=8)"
   ]
  },
  {
   "cell_type": "code",
   "execution_count": 33,
   "metadata": {},
   "outputs": [
    {
     "data": {
      "text/plain": [
       "RandomForestClassifier(bootstrap=True, class_weight=None, criterion='gini',\n",
       "                       max_depth=8, max_features='auto', max_leaf_nodes=None,\n",
       "                       min_impurity_decrease=0.0, min_impurity_split=None,\n",
       "                       min_samples_leaf=1, min_samples_split=2,\n",
       "                       min_weight_fraction_leaf=0.0, n_estimators=200,\n",
       "                       n_jobs=None, oob_score=False, random_state=1, verbose=0,\n",
       "                       warm_start=False)"
      ]
     },
     "execution_count": 33,
     "metadata": {},
     "output_type": "execute_result"
    }
   ],
   "source": [
    "rfc.fit(X_train, y_train)"
   ]
  },
  {
   "cell_type": "code",
   "execution_count": 34,
   "metadata": {},
   "outputs": [],
   "source": [
    "rfc_pred = rfc.predict(X_test)"
   ]
  },
  {
   "cell_type": "code",
   "execution_count": 35,
   "metadata": {},
   "outputs": [
    {
     "name": "stdout",
     "output_type": "stream",
     "text": [
      "rfc                precision    recall  f1-score   support\n",
      "\n",
      "         0.0       1.00      1.00      1.00    288386\n",
      "         1.0       0.98      0.95      0.96       848\n",
      "\n",
      "    accuracy                           1.00    289234\n",
      "   macro avg       0.99      0.97      0.98    289234\n",
      "weighted avg       1.00      1.00      1.00    289234\n",
      "\n"
     ]
    }
   ],
   "source": [
    "print(\"rfc \", classification_report(y_test, rfc_pred) )"
   ]
  },
  {
   "cell_type": "markdown",
   "metadata": {},
   "source": [
    "###### 4.6 XGBoost"
   ]
  },
  {
   "cell_type": "code",
   "execution_count": 36,
   "metadata": {},
   "outputs": [],
   "source": [
    "# classifier\n",
    "xg_cl = xgb.XGBClassifier(objective=\"binary:logistic\",\n",
    "                          n_estimators=100, colsample_bytree=0.7, subsample=0.7, max_depth=5, learning_rate=0.1, seed=42)"
   ]
  },
  {
   "cell_type": "code",
   "execution_count": 37,
   "metadata": {},
   "outputs": [
    {
     "data": {
      "text/plain": [
       "XGBClassifier(base_score=0.5, booster='gbtree', colsample_bylevel=1,\n",
       "              colsample_bynode=1, colsample_bytree=0.7, gamma=0,\n",
       "              learning_rate=0.1, max_delta_step=0, max_depth=5,\n",
       "              min_child_weight=1, missing=None, n_estimators=100, n_jobs=1,\n",
       "              nthread=None, objective='binary:logistic', random_state=0,\n",
       "              reg_alpha=0, reg_lambda=1, scale_pos_weight=1, seed=42,\n",
       "              silent=None, subsample=0.7, verbosity=1)"
      ]
     },
     "execution_count": 37,
     "metadata": {},
     "output_type": "execute_result"
    }
   ],
   "source": [
    "xg_cl.fit(X_train, y_train)"
   ]
  },
  {
   "cell_type": "code",
   "execution_count": 38,
   "metadata": {},
   "outputs": [],
   "source": [
    "preds = xg_cl.predict(X_test)"
   ]
  },
  {
   "cell_type": "code",
   "execution_count": 39,
   "metadata": {},
   "outputs": [
    {
     "name": "stdout",
     "output_type": "stream",
     "text": [
      "              precision    recall  f1-score   support\n",
      "\n",
      "         0.0       1.00      1.00      1.00    288386\n",
      "         1.0       1.00      0.98      0.99       848\n",
      "\n",
      "    accuracy                           1.00    289234\n",
      "   macro avg       1.00      0.99      0.99    289234\n",
      "weighted avg       1.00      1.00      1.00    289234\n",
      "\n"
     ]
    }
   ],
   "source": [
    "print(classification_report(y_test, preds))"
   ]
  },
  {
   "cell_type": "markdown",
   "metadata": {},
   "source": [
    "###### Predict on the test data"
   ]
  },
  {
   "cell_type": "code",
   "execution_count": 40,
   "metadata": {},
   "outputs": [
    {
     "data": {
      "text/html": [
       "<div>\n",
       "<style scoped>\n",
       "    .dataframe tbody tr th:only-of-type {\n",
       "        vertical-align: middle;\n",
       "    }\n",
       "\n",
       "    .dataframe tbody tr th {\n",
       "        vertical-align: top;\n",
       "    }\n",
       "\n",
       "    .dataframe thead th {\n",
       "        text-align: right;\n",
       "    }\n",
       "</style>\n",
       "<table border=\"1\" class=\"dataframe\">\n",
       "  <thead>\n",
       "    <tr style=\"text-align: right;\">\n",
       "      <th></th>\n",
       "      <th>AccountId</th>\n",
       "      <th>Amount_x</th>\n",
       "      <th>CustomerId</th>\n",
       "      <th>SubscriptionId</th>\n",
       "      <th>TransactionId</th>\n",
       "      <th>Value</th>\n",
       "      <th>Channel_Id__ChannelId_1</th>\n",
       "      <th>Channel_Id__ChannelId_2</th>\n",
       "      <th>Channel_Id__ChannelId_3</th>\n",
       "      <th>Channel_Id__ChannelId_4</th>\n",
       "      <th>...</th>\n",
       "      <th>second</th>\n",
       "      <th>day_of_week__0</th>\n",
       "      <th>day_of_week__1</th>\n",
       "      <th>day_of_week__2</th>\n",
       "      <th>day_of_week__3</th>\n",
       "      <th>day_of_week__4</th>\n",
       "      <th>day_of_week__5</th>\n",
       "      <th>day_of_week__6</th>\n",
       "      <th>Amount_y</th>\n",
       "      <th>Cust_prod_mean_dayofweek</th>\n",
       "    </tr>\n",
       "  </thead>\n",
       "  <tbody>\n",
       "    <tr>\n",
       "      <td>876464</td>\n",
       "      <td>2441</td>\n",
       "      <td>1000.0</td>\n",
       "      <td>2857</td>\n",
       "      <td>4426</td>\n",
       "      <td>TransactionId_50600</td>\n",
       "      <td>1000</td>\n",
       "      <td>0</td>\n",
       "      <td>0</td>\n",
       "      <td>1</td>\n",
       "      <td>0</td>\n",
       "      <td>...</td>\n",
       "      <td>36100</td>\n",
       "      <td>0</td>\n",
       "      <td>0</td>\n",
       "      <td>1</td>\n",
       "      <td>0</td>\n",
       "      <td>0</td>\n",
       "      <td>0</td>\n",
       "      <td>0</td>\n",
       "      <td>500.0</td>\n",
       "      <td>4.000000</td>\n",
       "    </tr>\n",
       "    <tr>\n",
       "      <td>876465</td>\n",
       "      <td>2441</td>\n",
       "      <td>1000.0</td>\n",
       "      <td>2857</td>\n",
       "      <td>4426</td>\n",
       "      <td>TransactionId_50600</td>\n",
       "      <td>1000</td>\n",
       "      <td>0</td>\n",
       "      <td>0</td>\n",
       "      <td>1</td>\n",
       "      <td>0</td>\n",
       "      <td>...</td>\n",
       "      <td>36100</td>\n",
       "      <td>0</td>\n",
       "      <td>0</td>\n",
       "      <td>1</td>\n",
       "      <td>0</td>\n",
       "      <td>0</td>\n",
       "      <td>0</td>\n",
       "      <td>0</td>\n",
       "      <td>1000.0</td>\n",
       "      <td>2.315789</td>\n",
       "    </tr>\n",
       "    <tr>\n",
       "      <td>876466</td>\n",
       "      <td>2441</td>\n",
       "      <td>1000.0</td>\n",
       "      <td>2857</td>\n",
       "      <td>4426</td>\n",
       "      <td>TransactionId_50600</td>\n",
       "      <td>1000</td>\n",
       "      <td>0</td>\n",
       "      <td>0</td>\n",
       "      <td>1</td>\n",
       "      <td>0</td>\n",
       "      <td>...</td>\n",
       "      <td>36100</td>\n",
       "      <td>0</td>\n",
       "      <td>0</td>\n",
       "      <td>1</td>\n",
       "      <td>0</td>\n",
       "      <td>0</td>\n",
       "      <td>0</td>\n",
       "      <td>0</td>\n",
       "      <td>2000.0</td>\n",
       "      <td>3.000000</td>\n",
       "    </tr>\n",
       "    <tr>\n",
       "      <td>876467</td>\n",
       "      <td>2441</td>\n",
       "      <td>1000.0</td>\n",
       "      <td>2857</td>\n",
       "      <td>4426</td>\n",
       "      <td>TransactionId_50600</td>\n",
       "      <td>1000</td>\n",
       "      <td>0</td>\n",
       "      <td>0</td>\n",
       "      <td>1</td>\n",
       "      <td>0</td>\n",
       "      <td>...</td>\n",
       "      <td>36100</td>\n",
       "      <td>0</td>\n",
       "      <td>0</td>\n",
       "      <td>1</td>\n",
       "      <td>0</td>\n",
       "      <td>0</td>\n",
       "      <td>0</td>\n",
       "      <td>0</td>\n",
       "      <td>3000.0</td>\n",
       "      <td>3.666667</td>\n",
       "    </tr>\n",
       "    <tr>\n",
       "      <td>876468</td>\n",
       "      <td>2441</td>\n",
       "      <td>1000.0</td>\n",
       "      <td>2857</td>\n",
       "      <td>4426</td>\n",
       "      <td>TransactionId_50600</td>\n",
       "      <td>1000</td>\n",
       "      <td>0</td>\n",
       "      <td>0</td>\n",
       "      <td>1</td>\n",
       "      <td>0</td>\n",
       "      <td>...</td>\n",
       "      <td>36100</td>\n",
       "      <td>0</td>\n",
       "      <td>0</td>\n",
       "      <td>1</td>\n",
       "      <td>0</td>\n",
       "      <td>0</td>\n",
       "      <td>0</td>\n",
       "      <td>0</td>\n",
       "      <td>3300.0</td>\n",
       "      <td>2.000000</td>\n",
       "    </tr>\n",
       "  </tbody>\n",
       "</table>\n",
       "<p>5 rows × 69 columns</p>\n",
       "</div>"
      ],
      "text/plain": [
       "        AccountId  Amount_x  CustomerId  SubscriptionId        TransactionId  \\\n",
       "876464       2441    1000.0        2857            4426  TransactionId_50600   \n",
       "876465       2441    1000.0        2857            4426  TransactionId_50600   \n",
       "876466       2441    1000.0        2857            4426  TransactionId_50600   \n",
       "876467       2441    1000.0        2857            4426  TransactionId_50600   \n",
       "876468       2441    1000.0        2857            4426  TransactionId_50600   \n",
       "\n",
       "        Value  Channel_Id__ChannelId_1  Channel_Id__ChannelId_2  \\\n",
       "876464   1000                        0                        0   \n",
       "876465   1000                        0                        0   \n",
       "876466   1000                        0                        0   \n",
       "876467   1000                        0                        0   \n",
       "876468   1000                        0                        0   \n",
       "\n",
       "        Channel_Id__ChannelId_3  Channel_Id__ChannelId_4  ...  second  \\\n",
       "876464                        1                        0  ...   36100   \n",
       "876465                        1                        0  ...   36100   \n",
       "876466                        1                        0  ...   36100   \n",
       "876467                        1                        0  ...   36100   \n",
       "876468                        1                        0  ...   36100   \n",
       "\n",
       "        day_of_week__0  day_of_week__1  day_of_week__2  day_of_week__3  \\\n",
       "876464               0               0               1               0   \n",
       "876465               0               0               1               0   \n",
       "876466               0               0               1               0   \n",
       "876467               0               0               1               0   \n",
       "876468               0               0               1               0   \n",
       "\n",
       "        day_of_week__4  day_of_week__5  day_of_week__6  Amount_y  \\\n",
       "876464               0               0               0     500.0   \n",
       "876465               0               0               0    1000.0   \n",
       "876466               0               0               0    2000.0   \n",
       "876467               0               0               0    3000.0   \n",
       "876468               0               0               0    3300.0   \n",
       "\n",
       "        Cust_prod_mean_dayofweek  \n",
       "876464                  4.000000  \n",
       "876465                  2.315789  \n",
       "876466                  3.000000  \n",
       "876467                  3.666667  \n",
       "876468                  2.000000  \n",
       "\n",
       "[5 rows x 69 columns]"
      ]
     },
     "execution_count": 40,
     "metadata": {},
     "output_type": "execute_result"
    }
   ],
   "source": [
    "test.head()"
   ]
  },
  {
   "cell_type": "code",
   "execution_count": 41,
   "metadata": {},
   "outputs": [],
   "source": [
    "test_pred = pd.DataFrame()\n",
    "test_pred['TransactionId'] = test[\"TransactionId\"]\n",
    "test.drop([\"TransactionId\"], axis=1, inplace=True)\n",
    "predict_test =rfc.predict(test)\n",
    "test_pred['FraudResult'] = predict_test\n",
    "test_pred.to_csv('submission.csv', index=False)"
   ]
  },
  {
   "cell_type": "markdown",
   "metadata": {},
   "source": [
    "#### Conclusion"
   ]
  },
  {
   "cell_type": "markdown",
   "metadata": {},
   "source": [
    "I chose to use Random Forest Classifier over Xgboost since for this case I got a higher f1 score on the Leaderboard. I stated earlier that we are dealing with imblanced dataset, I tried various method e.g Random Oversampling, Undersampling and SMOTE all these methods did not work for this case. The only way that I improved it was adding noise to the data by creating \n",
    "duplicate samples of the dataset. \n",
    "\n",
    "This model was trained on a kaggle kernels with access to GPUs which made it faster and easier than my local machine.\n",
    "\n",
    "\n",
    "**Thoughts** - This may not have been the best model score, but for cases of fraud we need alot more dataset where the model can learn from."
   ]
  },
  {
   "cell_type": "markdown",
   "metadata": {},
   "source": [
    "I had removed the code for Grid Search Cv since it's taking a longer time:- You can access it here:- You can change the estimator to xgboost as well.\n",
    "\n",
    "\n",
    "```\n",
    "rfc_param_grid = {\n",
    "                    'n_estimators': [100, 200, 250, 300, 400],\n",
    "                     'max_depth': [5, 7, 8, 10],\n",
    "                     }\n",
    "                     \n",
    "rfc_cv =  RandomForestClassifier(random_state=1)\n",
    "    \n",
    "     \n",
    "grid_mse = GridSearchCV(param_grid=rfc_param_grid, estimator=rfc_cv,\n",
    "scoring=\"f1\", cv=4 )\n",
    "grid_mse.fit(X, y)\n",
    "grid_mse.best_params_\n",
    "grid_mse.best_score_\n",
    "    \n",
    "```\n",
    "\n"
   ]
  },
  {
   "cell_type": "code",
   "execution_count": null,
   "metadata": {},
   "outputs": [],
   "source": []
  }
 ],
 "metadata": {
  "kernelspec": {
   "display_name": "Python 3",
   "language": "python",
   "name": "python3"
  },
  "language_info": {
   "codemirror_mode": {
    "name": "ipython",
    "version": 3
   },
   "file_extension": ".py",
   "mimetype": "text/x-python",
   "name": "python",
   "nbconvert_exporter": "python",
   "pygments_lexer": "ipython3",
   "version": "3.7.3"
  }
 },
 "nbformat": 4,
 "nbformat_minor": 1
}
